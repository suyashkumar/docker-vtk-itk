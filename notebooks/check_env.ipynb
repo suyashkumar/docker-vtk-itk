{
 "cells": [
  {
   "cell_type": "code",
   "execution_count": 1,
   "metadata": {},
   "outputs": [
    {
     "name": "stdout",
     "output_type": "stream",
     "text": [
      "Using python in /opt/conda\n",
      "3.6.3 | packaged by conda-forge | (default, Nov  4 2017, 10:10:56) \n",
      "[GCC 4.8.2 20140120 (Red Hat 4.8.2-15)]\n",
      "\n",
      "[ OK ] numpy version 1.14.3\n",
      "[ OK ] scipy version 1.1.0\n",
      "[ OK ] matplotlib version 2.2.2\n",
      "[ OK ] IPython version 6.2.1\n",
      "[ OK ] sklearn version 0.19.1\n",
      "[ OK ] itk version 4.13.0\n",
      "[ OK ] itkwidgets version 0.9.0\n",
      "[ OK ] ipywidgets version 7.2.1\n",
      "[FAIL] notebook version 5.4 or higher required, but 5.2.2 installed.\n"
     ]
    }
   ],
   "source": [
    "from __future__ import print_function\n",
    "from distutils.version import LooseVersion as Version\n",
    "import sys\n",
    "\n",
    "\n",
    "try:\n",
    "    import curses\n",
    "    curses.setupterm()\n",
    "    assert curses.tigetnum(\"colors\") > 2\n",
    "    OK = \"\\x1b[1;%dm[ OK ]\\x1b[0m\" % (30 + curses.COLOR_GREEN)\n",
    "    FAIL = \"\\x1b[1;%dm[FAIL]\\x1b[0m\" % (30 + curses.COLOR_RED)\n",
    "except:\n",
    "    OK = '[ OK ]'\n",
    "    FAIL = '[FAIL]'\n",
    "\n",
    "try:\n",
    "    import importlib\n",
    "except ImportError:\n",
    "    print(FAIL, \"Python version 3.5 (or 2.7) is required,\"\n",
    "                \" but %s is installed.\" % sys.version)\n",
    "\n",
    "    \n",
    "def import_version(pkg, min_ver, fail_msg=\"\"):\n",
    "    mod = None\n",
    "    try:\n",
    "        mod = importlib.import_module(pkg)\n",
    "        if pkg in {'itk'}:\n",
    "            ver = mod.Version.GetITKVersion()\n",
    "        else:\n",
    "            ver = mod.__version__\n",
    "        if Version(ver) < min_ver:\n",
    "            print(FAIL, \"%s version %s or higher required, but %s installed.\"\n",
    "                  % (lib, min_ver, ver))\n",
    "        else:\n",
    "            print(OK, '%s version %s' % (pkg, ver))\n",
    "    except ImportError:\n",
    "        print(FAIL, '%s not installed. %s' % (pkg, fail_msg))\n",
    "    return mod\n",
    "\n",
    "\n",
    "# first check the python version\n",
    "print('Using python in', sys.prefix)\n",
    "print(sys.version)\n",
    "pyversion = Version(sys.version)\n",
    "if pyversion >= \"3\":\n",
    "    if pyversion < \"3.5\":\n",
    "        print(FAIL, \"Python version 3.5 (or 2.7) is required,\"\n",
    "                    \" but %s is installed.\" % sys.version)\n",
    "elif pyversion >= \"2\":\n",
    "    if pyversion < \"2.7\":\n",
    "        print(FAIL, \"Python version 2.7 is required,\"\n",
    "                    \" but %s is installed.\" % sys.version)\n",
    "else:\n",
    "    print(FAIL, \"Unknown Python version: %s\" % sys.version)\n",
    "\n",
    "print()\n",
    "requirements = {'numpy': \"1.6.1\", 'scipy': \"0.9\", 'matplotlib': \"1.0\",\n",
    "                'IPython': \"3.0\", 'sklearn': \"0.18\", 'itk': \"4.13\",\n",
    "                'itkwidgets': \"0.9\", 'ipywidgets': '7.0', 'notebook': '5.4'}\n",
    "\n",
    "# now the dependencies\n",
    "for lib, required_version in list(requirements.items()):\n",
    "    import_version(lib, required_version)"
   ]
  },
  {
   "cell_type": "code",
   "execution_count": null,
   "metadata": {},
   "outputs": [],
   "source": []
  }
 ],
 "metadata": {
  "anaconda-cloud": {},
  "kernelspec": {
   "display_name": "Python 3",
   "language": "python",
   "name": "python3"
  },
  "language_info": {
   "codemirror_mode": {
    "name": "ipython",
    "version": 3
   },
   "file_extension": ".py",
   "mimetype": "text/x-python",
   "name": "python",
   "nbconvert_exporter": "python",
   "pygments_lexer": "ipython3",
   "version": "3.6.3"
  }
 },
 "nbformat": 4,
 "nbformat_minor": 2
}
